{
 "cells": [
  {
   "cell_type": "code",
   "execution_count": null,
   "metadata": {},
   "outputs": [],
   "source": [
    "import numpy as np"
   ]
  },
  {
   "cell_type": "code",
   "execution_count": null,
   "metadata": {},
   "outputs": [],
   "source": []
  },
  {
   "cell_type": "code",
   "execution_count": null,
   "metadata": {},
   "outputs": [],
   "source": [
    "# dont forget to start by np "
   ]
  },
  {
   "cell_type": "code",
   "execution_count": null,
   "metadata": {},
   "outputs": [],
   "source": [
    "# the expression of array in numpy : \n",
    "# np_name[rows,columns]  # rows = lignes , columns = colonnes ."
   ]
  },
  {
   "cell_type": "code",
   "execution_count": null,
   "metadata": {},
   "outputs": [],
   "source": [
    "#np.mean()  # return the mean of the array elements . mean in french = moyenne "
   ]
  },
  {
   "cell_type": "code",
   "execution_count": null,
   "metadata": {},
   "outputs": [],
   "source": [
    "# np.median() # return the median of the array elements . median in frensh median motawassit   "
   ]
  },
  {
   "cell_type": "code",
   "execution_count": null,
   "metadata": {},
   "outputs": [],
   "source": [
    "# np.corrcoef() # return the correlation coefficient of the array elements . correlation coefficient in frensh = coefficient de correlation . in arabic = معامل الارتباط\n",
    "# le coefficient de correlation  9rib l 1 donc une forte correlation entre les deux variables(positif)\n",
    "# le coefficient de correlation  9rib l 0 donc une faible correlation entre les deux variables\n",
    "# le coefficient de correlation  9rib l -1 donc une forte correlation inverse entre les deux variables (negatif)"
   ]
  },
  {
   "cell_type": "code",
   "execution_count": null,
   "metadata": {},
   "outputs": [],
   "source": [
    "#np.std() # return the standard deviation of the array elements . standard deviation in frensh = ecart type ."
   ]
  },
  {
   "cell_type": "code",
   "execution_count": null,
   "metadata": {},
   "outputs": [],
   "source": [
    "#np.sum() # return the sum of the array elements . sum in frensh = somme .\n",
    "#np.min() # return the minimum of the array elements . min in frensh = minimum .\n",
    "#np.max() # return the maximum of the array elements . max in frensh = maximum .\n",
    "#np.sort() # return a sorted copy of an array . \n"
   ]
  },
  {
   "cell_type": "code",
   "execution_count": null,
   "metadata": {},
   "outputs": [],
   "source": [
    "# big difference here is speed . numpy is faster than python .( acceleration de calcul )"
   ]
  }
 ],
 "metadata": {
  "language_info": {
   "name": "python"
  }
 },
 "nbformat": 4,
 "nbformat_minor": 2
}
