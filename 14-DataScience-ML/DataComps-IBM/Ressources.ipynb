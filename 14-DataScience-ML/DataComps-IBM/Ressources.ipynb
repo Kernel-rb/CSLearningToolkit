{
 "cells": [
  {
   "cell_type": "code",
   "execution_count": null,
   "metadata": {},
   "outputs": [],
   "source": [
    "# Datacamp.com    - Data Scientist with Python"
   ]
  }
 ],
 "metadata": {
  "language_info": {
   "name": "python"
  }
 },
 "nbformat": 4,
 "nbformat_minor": 2
}


