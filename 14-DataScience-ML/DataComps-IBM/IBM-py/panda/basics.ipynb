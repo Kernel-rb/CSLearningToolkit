{
 "cells": [
  {
   "cell_type": "code",
   "execution_count": null,
   "metadata": {},
   "outputs": [],
   "source": [
    "import pandas as pd\n",
    "# data loading \n",
    "df = pd.read_csv('data/iris.csv')\n",
    "# accest element\n",
    "print(df.iloc[0, 0]) # 1st row, 1st column\n",
    "print(s[2]) # acces elemeny by index\n",
    "print(s[2:5]) # range of rows"
   ]
  },
  {
   "cell_type": "code",
   "execution_count": 1,
   "metadata": {},
   "outputs": [
    {
     "name": "stdout",
     "output_type": "stream",
     "text": [
      "      Name  Age           City\n",
      "0    Alice   25       New York\n",
      "1      Bob   30  San Francisco\n",
      "2  Charlie   35    Los Angeles\n",
      "3    David   28        Chicago\n"
     ]
    }
   ],
   "source": [
    "# creata a data frame   :\n",
    "import pandas as pd\n",
    "# Creating a DataFrame from a dictionary\n",
    "data = {'Name': ['Alice', 'Bob', 'Charlie', 'David'],\n",
    "        'Age': [25, 30, 35, 28],\n",
    "        'City': ['New York', 'San Francisco', 'Los Angeles', 'Chicago']}\n",
    "df = pd.DataFrame(data)\n",
    "print(df)\n"
   ]
  },
  {
   "cell_type": "code",
   "execution_count": null,
   "metadata": {},
   "outputs": [],
   "source": [
    "# column selection\n",
    "print(df['Name'])\n",
    "print(df[['Name', 'Age']])\n",
    "# access row\n",
    "print(df.iloc[0]) # 1st row\n",
    "print(df.iloc[0:2]) # 1st and 2nd row\n",
    "# slicing\n",
    "print(df.iloc[0:2, 0:2]) # 1st and 2nd row, 1st and 2nd column\n",
    "# filter\n",
    "print(df[df['Age'] > 25])\n",
    "# add new column\n",
    "df['Age_plus_one'] = df['Age'] + 1\n",
    "# save data frame\n",
    "df.to_csv('trading_data.csv', index=False)"
   ]
  }
 ],
 "metadata": {
  "kernelspec": {
   "display_name": "Python 3",
   "language": "python",
   "name": "python3"
  },
  "language_info": {
   "codemirror_mode": {
    "name": "ipython",
    "version": 3
   },
   "file_extension": ".py",
   "mimetype": "text/x-python",
   "name": "python",
   "nbconvert_exporter": "python",
   "pygments_lexer": "ipython3",
   "version": "3.10.12"
  }
 },
 "nbformat": 4,
 "nbformat_minor": 2
}
