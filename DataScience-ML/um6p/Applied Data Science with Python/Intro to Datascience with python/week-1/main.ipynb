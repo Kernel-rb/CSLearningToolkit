{
 "cells": [
  {
   "cell_type": "code",
   "execution_count": 3,
   "metadata": {},
   "outputs": [
    {
     "name": "stdout",
     "output_type": "stream",
     "text": [
      "3\n"
     ]
    }
   ],
   "source": [
    "x = 1 \n",
    "y  = 2\n",
    "z = x + y\n",
    "print(z)"
   ]
  },
  {
   "cell_type": "code",
   "execution_count": 4,
   "metadata": {},
   "outputs": [
    {
     "name": "stdout",
     "output_type": "stream",
     "text": [
      "1\n"
     ]
    }
   ],
   "source": [
    "print(x)"
   ]
  },
  {
   "cell_type": "code",
   "execution_count": 6,
   "metadata": {},
   "outputs": [
    {
     "data": {
      "text/plain": [
       "3"
      ]
     },
     "execution_count": 6,
     "metadata": {},
     "output_type": "execute_result"
    }
   ],
   "source": [
    "def add(x,y):\n",
    "    return x+y\n",
    "add(1,2)"
   ]
  },
  {
   "cell_type": "code",
   "execution_count": 10,
   "metadata": {},
   "outputs": [
    {
     "name": "stdout",
     "output_type": "stream",
     "text": [
      "6\n",
      "3\n"
     ]
    }
   ],
   "source": [
    "def tree_val(x,y,z=None):\n",
    "    if z == None:\n",
    "        return x+y\n",
    "    else:\n",
    "        return x+y+z\n",
    "print(tree_val(1,2,3))\n",
    "print(tree_val(1,2))"
   ]
  },
  {
   "cell_type": "code",
   "execution_count": 11,
   "metadata": {},
   "outputs": [
    {
     "name": "stdout",
     "output_type": "stream",
     "text": [
      "Flag is true\n",
      "3\n"
     ]
    }
   ],
   "source": [
    "def add_numbers(x , y , z=None , flag=False):\n",
    "    if flag:\n",
    "        print('Flag is true')\n",
    "    if z == None:\n",
    "        return x+y\n",
    "    else:\n",
    "        return x+y+z\n",
    "print(add_numbers(1,2,flag=True))"
   ]
  },
  {
   "cell_type": "code",
   "execution_count": 14,
   "metadata": {},
   "outputs": [
    {
     "name": "stdout",
     "output_type": "stream",
     "text": [
      "<class 'str'> <class 'NoneType'> <class 'int'> <class 'float'> <class 'function'>\n"
     ]
    }
   ],
   "source": [
    "print(\n",
    "type('This is a string'),\n",
    "type(None),\n",
    "type(1),\n",
    "type(1.0),\n",
    "type(add_numbers)\n",
    ")"
   ]
  },
  {
   "cell_type": "code",
   "execution_count": 15,
   "metadata": {},
   "outputs": [
    {
     "name": "stdout",
     "output_type": "stream",
     "text": [
      "<class 'tuple'>\n"
     ]
    }
   ],
   "source": [
    "tuple_ex = (1,'a',2,'b')\n",
    "# mutable or immutable ? the tuple is immutable , cannot be changed\n",
    "print(type(tuple_ex))"
   ]
  },
  {
   "cell_type": "code",
   "execution_count": null,
   "metadata": {},
   "outputs": [],
   "source": [
    "List = [1,'a',2,'b']\n",
    "# mutable or immutable ? the list is mutable , can be changed\n",
    "print(type(List))"
   ]
  },
  {
   "cell_type": "code",
   "execution_count": null,
   "metadata": {},
   "outputs": [],
   "source": [
    "List.append(3.3) # add a new element to the list\n",
    "print(List)"
   ]
  },
  {
   "cell_type": "code",
   "execution_count": 18,
   "metadata": {},
   "outputs": [
    {
     "name": "stdout",
     "output_type": "stream",
     "text": [
      "1\n",
      "a\n",
      "2\n",
      "b\n",
      "3.3\n"
     ]
    }
   ],
   "source": [
    "List = [1,'a',2,'b']\n",
    "List.append(3.3)\n",
    "for item in List:\n",
    "    print(item)"
   ]
  },
  {
   "cell_type": "code",
   "execution_count": 19,
   "metadata": {},
   "outputs": [
    {
     "name": "stdout",
     "output_type": "stream",
     "text": [
      "1\n",
      "a\n",
      "2\n",
      "b\n",
      "3.3\n"
     ]
    }
   ],
   "source": [
    "i = 0 \n",
    "while i != len(List):\n",
    "    print(List[i])\n",
    "    i = i + 1"
   ]
  },
  {
   "cell_type": "code",
   "execution_count": 20,
   "metadata": {},
   "outputs": [
    {
     "data": {
      "text/plain": [
       "[1, 2, 3, 4]"
      ]
     },
     "execution_count": 20,
     "metadata": {},
     "output_type": "execute_result"
    }
   ],
   "source": [
    "# concatenate lists\n",
    "[1,2] + [3,4]\n"
   ]
  },
  {
   "cell_type": "code",
   "execution_count": 21,
   "metadata": {},
   "outputs": [
    {
     "data": {
      "text/plain": [
       "True"
      ]
     },
     "execution_count": 21,
     "metadata": {},
     "output_type": "execute_result"
    }
   ],
   "source": [
    "1 in [1,2,3]\n"
   ]
  },
  {
   "cell_type": "code",
   "execution_count": 22,
   "metadata": {},
   "outputs": [
    {
     "name": "stdout",
     "output_type": "stream",
     "text": [
      "T\n",
      "T\n",
      "Th\n"
     ]
    }
   ],
   "source": [
    "x = 'This is a string'\n",
    "print(x[0])\n",
    "print(x[0:1])\n",
    "print(x[0:2])"
   ]
  },
  {
   "cell_type": "code",
   "execution_count": 23,
   "metadata": {},
   "outputs": [
    {
     "name": "stdout",
     "output_type": "stream",
     "text": [
      "g\n",
      "ri\n"
     ]
    }
   ],
   "source": [
    "print(x[-1])\n",
    "print(x[-4:-2])\n"
   ]
  },
  {
   "cell_type": "code",
   "execution_count": 24,
   "metadata": {},
   "outputs": [
    {
     "name": "stdout",
     "output_type": "stream",
     "text": [
      "Thi\n"
     ]
    }
   ],
   "source": [
    "print(x[:3])"
   ]
  },
  {
   "cell_type": "code",
   "execution_count": 25,
   "metadata": {},
   "outputs": [
    {
     "name": "stdout",
     "output_type": "stream",
     "text": [
      "Christopher \n"
     ]
    }
   ],
   "source": [
    "x = 'Dr. Christopher Brooks'\n",
    "\n",
    "print(x[4:15])"
   ]
  },
  {
   "cell_type": "code",
   "execution_count": 26,
   "metadata": {},
   "outputs": [
    {
     "name": "stdout",
     "output_type": "stream",
     "text": [
      "kernel Matab\n",
      "kernelkernelkernel\n",
      "True\n"
     ]
    }
   ],
   "source": [
    "firtname = \"kernel\"\n",
    "lastname = \"Matab\"\n",
    "print(firtname + ' ' + lastname)\n",
    "print(firtname*3)\n",
    "print('kernel' in firtname)\n"
   ]
  },
  {
   "cell_type": "code",
   "execution_count": 32,
   "metadata": {},
   "outputs": [
    {
     "name": "stdout",
     "output_type": "stream",
     "text": [
      "kernel\n",
      "Matab\n"
     ]
    }
   ],
   "source": [
    "firtname = \"kernel saif  Matab\".split(' ')[0]\n",
    "lastname = \"kernel saif  Matab\".split(' ')[-1]\n",
    "print(firtname)\n",
    "print(lastname)"
   ]
  },
  {
   "cell_type": "code",
   "execution_count": 38,
   "metadata": {},
   "outputs": [
    {
     "name": "stdout",
     "output_type": "stream",
     "text": [
      "{'name': 'kernel', 'lastname': 'Matab', 'address': 'FR', 'mail': 'kernel@gmail.com'}\n",
      "{'name': 'kernel', 'lastname': 'Matab', 'address': 'FR', 'mail': 'kernel@gmail.com', 'hobby': 'football'}\n"
     ]
    }
   ],
   "source": [
    "x = {\n",
    "    'name' : 'kernel',\n",
    "    'lastname' : 'Matab',\n",
    "    'address' : 'FR',\n",
    "    'mail' : 'kernel@gmail.com'\n",
    "}\n",
    "print(x)\n",
    "x['name']\n",
    "x['address']\n",
    "x[\"hobby\"] = \"football\"\n",
    "print(x)\n"
   ]
  },
  {
   "cell_type": "code",
   "execution_count": 40,
   "metadata": {},
   "outputs": [
    {
     "name": "stdout",
     "output_type": "stream",
     "text": [
      "football\n",
      "kernel\n",
      "Matab\n",
      "FR\n",
      "kernel@gmail.com\n",
      "football\n"
     ]
    }
   ],
   "source": [
    "for name in x:\n",
    "    print(x[name])"
   ]
  },
  {
   "cell_type": "code",
   "execution_count": 41,
   "metadata": {},
   "outputs": [
    {
     "name": "stdout",
     "output_type": "stream",
     "text": [
      "kernel\n",
      "Matab\n",
      "FR\n",
      "kernel@gmail.com\n",
      "football\n"
     ]
    }
   ],
   "source": [
    "for mail in x.values():\n",
    "    print(mail)"
   ]
  },
  {
   "cell_type": "code",
   "execution_count": 42,
   "metadata": {},
   "outputs": [
    {
     "name": "stdout",
     "output_type": "stream",
     "text": [
      "kernel\n"
     ]
    }
   ],
   "source": [
    "x = ('kernel','Matab','FR')\n",
    "name , lastname , address = x\n",
    "print(name)"
   ]
  },
  {
   "cell_type": "code",
   "execution_count": 43,
   "metadata": {},
   "outputs": [
    {
     "name": "stdout",
     "output_type": "stream",
     "text": [
      "kernel2\n"
     ]
    }
   ],
   "source": [
    "print('kernel' + str(2))"
   ]
  },
  {
   "cell_type": "code",
   "execution_count": 44,
   "metadata": {},
   "outputs": [
    {
     "name": "stdout",
     "output_type": "stream",
     "text": [
      "kernel bought 4 item(s) at a price of 3.24 each for a total of 12.96\n"
     ]
    }
   ],
   "source": [
    "sales_record = {\n",
    "    'price' : 3.24,\n",
    "    'num_items' : 4,\n",
    "    'person' : 'kernel'\n",
    "}\n",
    "sales_statement = '{} bought {} item(s) at a price of {} each for a total of {}'\n",
    "print(sales_statement.format(sales_record['person'],\n",
    "                             sales_record['num_items'],\n",
    "                             sales_record['price'],\n",
    "                             sales_record['num_items']*sales_record['price']))"
   ]
  },
  {
   "cell_type": "markdown",
   "metadata": {},
   "source": [
    "# Dates & Time"
   ]
  },
  {
   "cell_type": "code",
   "execution_count": 4,
   "metadata": {},
   "outputs": [
    {
     "data": {
      "text/plain": [
       "datetime.datetime(2023, 11, 9, 19, 11, 52, 473747)"
      ]
     },
     "execution_count": 4,
     "metadata": {},
     "output_type": "execute_result"
    }
   ],
   "source": [
    "import datetime as dt\n",
    "import time as tm\n",
    "\n",
    "tm.time()\n",
    "\n",
    "dtnow = dt.datetime.fromtimestamp(tm.time())\n",
    "dtnow"
   ]
  },
  {
   "cell_type": "code",
   "execution_count": 5,
   "metadata": {},
   "outputs": [
    {
     "data": {
      "text/plain": [
       "(2023, 11, 9, 19, 11, 52)"
      ]
     },
     "execution_count": 5,
     "metadata": {},
     "output_type": "execute_result"
    }
   ],
   "source": [
    "dtnow.year , dtnow.month , dtnow.day , dtnow.hour , dtnow.minute , dtnow.second"
   ]
  },
  {
   "cell_type": "code",
   "execution_count": 10,
   "metadata": {},
   "outputs": [
    {
     "data": {
      "text/plain": [
       "datetime.date(2023, 8, 1)"
      ]
     },
     "execution_count": 10,
     "metadata": {},
     "output_type": "execute_result"
    }
   ],
   "source": [
    "delta = dt.timedelta(days = 100) # create a timedelta of 100 days\n",
    "delta\n",
    "today = dt.date.today()\n",
    "today-delta # the date 100 days ago"
   ]
  },
  {
   "cell_type": "markdown",
   "metadata": {},
   "source": [
    "# Advanced Python : Obejct & map()"
   ]
  },
  {
   "cell_type": "code",
   "execution_count": null,
   "metadata": {},
   "outputs": [],
   "source": [
    "class Person : \n",
    "    dep = 'Data Science'\n",
    "    def set_name(self , new_name): # why we wrote self => because we want to access to the object\n",
    "        self.name = new_name   \n",
    "    def set_location(self , new_location):\n",
    "        self.location = new_location "
   ]
  },
  {
   "cell_type": "code",
   "execution_count": 11,
   "metadata": {},
   "outputs": [
    {
     "data": {
      "text/plain": [
       "<map at 0x1bc55acbc70>"
      ]
     },
     "execution_count": 11,
     "metadata": {},
     "output_type": "execute_result"
    }
   ],
   "source": [
    "store1 = [10.00 , 11.00 , 12.34 , 2.34]\n",
    "store2 = [9.00 , 11.10 , 12.34 , 2.01]\n",
    "cheapest = map(min , store1 , store2)\n",
    "cheapest\n",
    "# what map do on python ? \n",
    "# =>  c est une fonction qui prend en parametre une fonction et une liste et qui applique la fonction sur chaque element de la liste"
   ]
  },
  {
   "cell_type": "markdown",
   "metadata": {},
   "source": [
    "# Lambda & List Comprehension <3"
   ]
  },
  {
   "cell_type": "code",
   "execution_count": 12,
   "metadata": {},
   "outputs": [
    {
     "data": {
      "text/plain": [
       "3"
      ]
     },
     "execution_count": 12,
     "metadata": {},
     "output_type": "execute_result"
    }
   ],
   "source": [
    "fun = lambda x , y , c : x+y\n",
    "fun(1,2,3)"
   ]
  },
  {
   "cell_type": "code",
   "execution_count": null,
   "metadata": {},
   "outputs": [],
   "source": [
    "my_list = []\n",
    "for number in range(0,1000):\n",
    "    if number % 2 == 0:\n",
    "        my_list.append(number)\n",
    "my_list"
   ]
  },
  {
   "cell_type": "code",
   "execution_count": null,
   "metadata": {},
   "outputs": [],
   "source": [
    "second_meth = [number for number in range(0,1000) if number % 2 == 0]"
   ]
  }
 ],
 "metadata": {
  "kernelspec": {
   "display_name": "Python 3",
   "language": "python",
   "name": "python3"
  },
  "language_info": {
   "codemirror_mode": {
    "name": "ipython",
    "version": 3
   },
   "file_extension": ".py",
   "mimetype": "text/x-python",
   "name": "python",
   "nbconvert_exporter": "python",
   "pygments_lexer": "ipython3",
   "version": "3.12.0"
  }
 },
 "nbformat": 4,
 "nbformat_minor": 2
}
